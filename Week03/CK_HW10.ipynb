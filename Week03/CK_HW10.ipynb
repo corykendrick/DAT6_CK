{
 "metadata": {
  "name": "",
  "signature": "sha256:4d67fe78f109dcd7ea2b143023bf10be253a25b8dcfbcb61f244f7c3b5d4360c"
 },
 "nbformat": 3,
 "nbformat_minor": 0,
 "worksheets": [
  {
   "cells": [
    {
     "cell_type": "code",
     "collapsed": false,
     "input": [
      "# Regularization (Grid Search) - no HW this week, just in-class lab"
     ],
     "language": "python",
     "metadata": {},
     "outputs": []
    }
   ],
   "metadata": {}
  }
 ]
}