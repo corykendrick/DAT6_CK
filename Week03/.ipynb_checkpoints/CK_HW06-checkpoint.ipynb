{
 "metadata": {
  "name": "",
  "signature": "sha256:852bf77e1db1d56ba1facf2a4d6f4647f7b7ca9b19fed2d741370eacc75efdfb"
 },
 "nbformat": 3,
 "nbformat_minor": 0,
 "worksheets": [
  {
   "cells": [
    {
     "cell_type": "code",
     "collapsed": false,
     "input": [
      "# ML"
     ],
     "language": "python",
     "metadata": {},
     "outputs": []
    }
   ],
   "metadata": {}
  }
 ]
}