{
 "metadata": {
  "name": "",
  "signature": "sha256:d5a6a86ecf5f77f3a823661ecce620dc6d9c41955a82e0c884dcb6c63ca2bdf9"
 },
 "nbformat": 3,
 "nbformat_minor": 0,
 "worksheets": [
  {
   "cells": [
    {
     "cell_type": "code",
     "collapsed": false,
     "input": [
      "# Stats"
     ],
     "language": "python",
     "metadata": {},
     "outputs": []
    }
   ],
   "metadata": {}
  }
 ]
}