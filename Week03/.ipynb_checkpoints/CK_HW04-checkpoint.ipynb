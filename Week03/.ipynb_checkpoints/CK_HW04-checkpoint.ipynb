{
 "metadata": {
  "name": "",
  "signature": "sha256:21b1d5dd30393e5cf9d23f99b1776a071744e93c0413e128aabaff8ca12914c6"
 },
 "nbformat": 3,
 "nbformat_minor": 0,
 "worksheets": [
  {
   "cells": [
    {
     "cell_type": "code",
     "collapsed": false,
     "input": [
      "# standard library:\n",
      "import os  \n",
      "\n",
      "from pprint import pprint\n",
      "\n",
      "# other modules:\n",
      "import matplotlib.pyplot as plt\n",
      "import pandas as pd\n",
      "import twitter\n",
      "import yaml\n",
      "\n",
      "from pymongo import MongoClient"
     ],
     "language": "python",
     "metadata": {},
     "outputs": [],
     "prompt_number": 62
    },
    {
     "cell_type": "code",
     "collapsed": false,
     "input": [
      "# connect to twitter\n",
      "\n",
      "credentials = yaml.load(open(os.path.expanduser('~/api_cred.yml')))\n",
      "\n",
      "auth = twitter.oauth.OAuth(credentials['ACCESS_TOKEN'], \n",
      "                           credentials['ACCESS_TOKEN_SECRET'],\n",
      "                           credentials['API_KEY'],\n",
      "                           credentials['API_SECRET'])\n",
      "\n",
      "twitter_api = twitter.Twitter(auth=auth)"
     ],
     "language": "python",
     "metadata": {},
     "outputs": [],
     "prompt_number": 63
    },
    {
     "cell_type": "code",
     "collapsed": false,
     "input": [
      "# Set up US and CA objects w/ WOE IDs and top trends.\n",
      "\n",
      "US_WOE_ID = 23424977\n",
      "CA_WOE_ID = 23424775\n",
      "\n",
      "us_trends = twitter_api.trends.place(_id=US_WOE_ID)\n",
      "ca_trends = twitter_api.trends.place(_id=CA_WOE_ID)\n",
      "\n",
      "\"\"\"hashcount = twitter_api.search_tweets(q='#hashtag', count = 5) # makes a twitter dict\n",
      "for status in hashcount['statuses']:\n",
      "    print status.get('text') \"\"\""
     ],
     "language": "python",
     "metadata": {},
     "outputs": []
    },
    {
     "cell_type": "code",
     "collapsed": false,
     "input": [
      "# make trends sets\n",
      "ca_trends_set = set([trend['name'] for trends in ca_trends\n",
      "                        for trend in trends['trends']])\n",
      "us_trends_set = set([trend['name'] for trends in us_trends\n",
      "                     for trend in trends['trends']]) \n",
      "\n",
      "# find intersection\n",
      "ca_trends_set.intersection(us_trends_set)"
     ],
     "language": "python",
     "metadata": {},
     "outputs": [
      {
       "metadata": {},
       "output_type": "pyout",
       "prompt_number": 61,
       "text": [
        "{u'#DigitourLovesAmericanIdol',\n",
        " u'#ReplaceMovieTitlesWithThot',\n",
        " u'#SUPERNATURALFINALE',\n",
        " u'Mallory Edens'}"
       ]
      }
     ],
     "prompt_number": 61
    },
    {
     "cell_type": "code",
     "collapsed": false,
     "input": [
      "print ca_trends[0]['trends'][0]['name']"
     ],
     "language": "python",
     "metadata": {},
     "outputs": [
      {
       "output_type": "stream",
       "stream": "stdout",
       "text": [
        "#NBADraftLottery\n"
       ]
      }
     ],
     "prompt_number": 66
    },
    {
     "cell_type": "code",
     "collapsed": false,
     "input": [
      "# get the top 100 trends \n",
      "q = ca_trends[0]['trends'][0]['name']\n",
      "count = 100\n",
      "# See https://dev.twitter.com/docs/api/1.1/get/search/tweets\n",
      "\n",
      "search_results = twitter_api.search.tweets(q=q, count=count)\n",
      "statuses = search_results['statuses']"
     ],
     "language": "python",
     "metadata": {},
     "outputs": [],
     "prompt_number": 68
    },
    {
     "cell_type": "code",
     "collapsed": false,
     "input": [
      "len(statuses)"
     ],
     "language": "python",
     "metadata": {},
     "outputs": [
      {
       "metadata": {},
       "output_type": "pyout",
       "prompt_number": 69,
       "text": [
        "100"
       ]
      }
     ],
     "prompt_number": 69
    },
    {
     "cell_type": "code",
     "collapsed": false,
     "input": [
      "search_results['search_metadata'].get('next_results')"
     ],
     "language": "python",
     "metadata": {},
     "outputs": [
      {
       "metadata": {},
       "output_type": "pyout",
       "prompt_number": 35,
       "text": [
        "u'?max_id=468641522116599807&q=%23RuinAToy&count=100&include_entities=1'"
       ]
      }
     ],
     "prompt_number": 35
    },
    {
     "cell_type": "code",
     "collapsed": false,
     "input": [],
     "language": "python",
     "metadata": {},
     "outputs": []
    },
    {
     "cell_type": "code",
     "collapsed": false,
     "input": [],
     "language": "python",
     "metadata": {},
     "outputs": []
    },
    {
     "cell_type": "code",
     "collapsed": false,
     "input": [],
     "language": "python",
     "metadata": {},
     "outputs": []
    },
    {
     "cell_type": "code",
     "collapsed": false,
     "input": [],
     "language": "python",
     "metadata": {},
     "outputs": []
    },
    {
     "cell_type": "code",
     "collapsed": false,
     "input": [
      "# connect to Mongo\n",
      "c = MongoClient()"
     ],
     "language": "python",
     "metadata": {},
     "outputs": [],
     "prompt_number": 70
    },
    {
     "cell_type": "code",
     "collapsed": false,
     "input": [
      "db = c.twitter"
     ],
     "language": "python",
     "metadata": {},
     "outputs": [],
     "prompt_number": 71
    },
    {
     "cell_type": "code",
     "collapsed": false,
     "input": [
      "statuses_ids = db.tweets.insert(statuses)\n",
      "statuses_ids[:5]"
     ],
     "language": "python",
     "metadata": {},
     "outputs": [
      {
       "metadata": {},
       "output_type": "pyout",
       "prompt_number": 72,
       "text": [
        "[ObjectId('537bfe4b377b5f2816c610b5'),\n",
        " ObjectId('537bfe4b377b5f2816c610b6'),\n",
        " ObjectId('537bfe4b377b5f2816c610b7'),\n",
        " ObjectId('537bfe4b377b5f2816c610b8'),\n",
        " ObjectId('537bfe4b377b5f2816c610b9')]"
       ]
      }
     ],
     "prompt_number": 72
    },
    {
     "cell_type": "code",
     "collapsed": false,
     "input": [
      "c.database_names()"
     ],
     "language": "python",
     "metadata": {},
     "outputs": [
      {
       "metadata": {},
       "output_type": "pyout",
       "prompt_number": 73,
       "text": [
        "[u'local', u'twitter', u'admin']"
       ]
      }
     ],
     "prompt_number": 73
    },
    {
     "cell_type": "code",
     "collapsed": false,
     "input": [
      "db = c.twitter\n",
      "db.collection_names()"
     ],
     "language": "python",
     "metadata": {},
     "outputs": [
      {
       "metadata": {},
       "output_type": "pyout",
       "prompt_number": 74,
       "text": [
        "[u'tweets', u'system.indexes']"
       ]
      }
     ],
     "prompt_number": 74
    },
    {
     "cell_type": "code",
     "collapsed": false,
     "input": [
      "db.tweets.find_one()"
     ],
     "language": "python",
     "metadata": {},
     "outputs": []
    },
    {
     "cell_type": "code",
     "collapsed": false,
     "input": [
      "popular_tweets = db.tweets.find({'retweet_count': {\"$gte\": 3}})\n",
      "popular_tweets.count()"
     ],
     "language": "python",
     "metadata": {},
     "outputs": [
      {
       "metadata": {},
       "output_type": "pyout",
       "prompt_number": 45,
       "text": [
        "5"
       ]
      }
     ],
     "prompt_number": 45
    },
    {
     "cell_type": "code",
     "collapsed": false,
     "input": [
      "retweet_favorites = pd.DataFrame(list(db.tweets.find(fields=['created_at','retweet_count','favorite_count'])))\n",
      "retweet_favorites.head()"
     ],
     "language": "python",
     "metadata": {},
     "outputs": [
      {
       "html": [
        "<div style=\"max-height:1000px;max-width:1500px;overflow:auto;\">\n",
        "<table border=\"1\" class=\"dataframe\">\n",
        "  <thead>\n",
        "    <tr style=\"text-align: right;\">\n",
        "      <th></th>\n",
        "      <th>_id</th>\n",
        "      <th>created_at</th>\n",
        "      <th>favorite_count</th>\n",
        "      <th>retweet_count</th>\n",
        "    </tr>\n",
        "  </thead>\n",
        "  <tbody>\n",
        "    <tr>\n",
        "      <th>0</th>\n",
        "      <td> 537af815377b5f2816c60fed</td>\n",
        "      <td> Tue May 20 06:36:00 +0000 2014</td>\n",
        "      <td> 0</td>\n",
        "      <td> 0</td>\n",
        "    </tr>\n",
        "    <tr>\n",
        "      <th>1</th>\n",
        "      <td> 537af892377b5f2816c6105f</td>\n",
        "      <td> Tue May 20 06:38:33 +0000 2014</td>\n",
        "      <td> 0</td>\n",
        "      <td> 0</td>\n",
        "    </tr>\n",
        "    <tr>\n",
        "      <th>2</th>\n",
        "      <td> 537af815377b5f2816c60fee</td>\n",
        "      <td> Tue May 20 06:35:58 +0000 2014</td>\n",
        "      <td> 0</td>\n",
        "      <td> 0</td>\n",
        "    </tr>\n",
        "    <tr>\n",
        "      <th>3</th>\n",
        "      <td> 537af815377b5f2816c60fef</td>\n",
        "      <td> Tue May 20 06:35:57 +0000 2014</td>\n",
        "      <td> 0</td>\n",
        "      <td> 0</td>\n",
        "    </tr>\n",
        "    <tr>\n",
        "      <th>4</th>\n",
        "      <td> 537af815377b5f2816c60ff0</td>\n",
        "      <td> Tue May 20 06:35:56 +0000 2014</td>\n",
        "      <td> 0</td>\n",
        "      <td> 0</td>\n",
        "    </tr>\n",
        "  </tbody>\n",
        "</table>\n",
        "<p>5 rows \u00d7 4 columns</p>\n",
        "</div>"
       ],
       "metadata": {},
       "output_type": "pyout",
       "prompt_number": 47,
       "text": [
        "                        _id                      created_at  favorite_count  \\\n",
        "0  537af815377b5f2816c60fed  Tue May 20 06:36:00 +0000 2014               0   \n",
        "1  537af892377b5f2816c6105f  Tue May 20 06:38:33 +0000 2014               0   \n",
        "2  537af815377b5f2816c60fee  Tue May 20 06:35:58 +0000 2014               0   \n",
        "3  537af815377b5f2816c60fef  Tue May 20 06:35:57 +0000 2014               0   \n",
        "4  537af815377b5f2816c60ff0  Tue May 20 06:35:56 +0000 2014               0   \n",
        "\n",
        "   retweet_count  \n",
        "0              0  \n",
        "1              0  \n",
        "2              0  \n",
        "3              0  \n",
        "4              0  \n",
        "\n",
        "[5 rows x 4 columns]"
       ]
      }
     ],
     "prompt_number": 47
    },
    {
     "cell_type": "code",
     "collapsed": false,
     "input": [
      "retweet_favorites.describe()"
     ],
     "language": "python",
     "metadata": {},
     "outputs": [
      {
       "html": [
        "<div style=\"max-height:1000px;max-width:1500px;overflow:auto;\">\n",
        "<table border=\"1\" class=\"dataframe\">\n",
        "  <thead>\n",
        "    <tr style=\"text-align: right;\">\n",
        "      <th></th>\n",
        "      <th>favorite_count</th>\n",
        "      <th>retweet_count</th>\n",
        "    </tr>\n",
        "  </thead>\n",
        "  <tbody>\n",
        "    <tr>\n",
        "      <th>count</th>\n",
        "      <td> 200.000000</td>\n",
        "      <td> 200.000000</td>\n",
        "    </tr>\n",
        "    <tr>\n",
        "      <th>mean</th>\n",
        "      <td>   0.035000</td>\n",
        "      <td>   1.135000</td>\n",
        "    </tr>\n",
        "    <tr>\n",
        "      <th>std</th>\n",
        "      <td>   0.253171</td>\n",
        "      <td>   9.402596</td>\n",
        "    </tr>\n",
        "    <tr>\n",
        "      <th>min</th>\n",
        "      <td>   0.000000</td>\n",
        "      <td>   0.000000</td>\n",
        "    </tr>\n",
        "    <tr>\n",
        "      <th>25%</th>\n",
        "      <td>   0.000000</td>\n",
        "      <td>   0.000000</td>\n",
        "    </tr>\n",
        "    <tr>\n",
        "      <th>50%</th>\n",
        "      <td>   0.000000</td>\n",
        "      <td>   0.000000</td>\n",
        "    </tr>\n",
        "    <tr>\n",
        "      <th>75%</th>\n",
        "      <td>   0.000000</td>\n",
        "      <td>   0.000000</td>\n",
        "    </tr>\n",
        "    <tr>\n",
        "      <th>max</th>\n",
        "      <td>   3.000000</td>\n",
        "      <td>  95.000000</td>\n",
        "    </tr>\n",
        "  </tbody>\n",
        "</table>\n",
        "<p>8 rows \u00d7 2 columns</p>\n",
        "</div>"
       ],
       "metadata": {},
       "output_type": "pyout",
       "prompt_number": 48,
       "text": [
        "       favorite_count  retweet_count\n",
        "count      200.000000     200.000000\n",
        "mean         0.035000       1.135000\n",
        "std          0.253171       9.402596\n",
        "min          0.000000       0.000000\n",
        "25%          0.000000       0.000000\n",
        "50%          0.000000       0.000000\n",
        "75%          0.000000       0.000000\n",
        "max          3.000000      95.000000\n",
        "\n",
        "[8 rows x 2 columns]"
       ]
      }
     ],
     "prompt_number": 48
    },
    {
     "cell_type": "code",
     "collapsed": false,
     "input": [
      "retweet_favorites.created_at.map(pd.to_datetime).describe()"
     ],
     "language": "python",
     "metadata": {},
     "outputs": []
    },
    {
     "cell_type": "code",
     "collapsed": false,
     "input": [
      "mentions_followers = list(db.tweets.find(fields=['entities.user_mentions', 'user.followers_count']))\n",
      "pd.DataFrame(mentions_followers).head()"
     ],
     "language": "python",
     "metadata": {},
     "outputs": [
      {
       "html": [
        "<div style=\"max-height:1000px;max-width:1500px;overflow:auto;\">\n",
        "<table border=\"1\" class=\"dataframe\">\n",
        "  <thead>\n",
        "    <tr style=\"text-align: right;\">\n",
        "      <th></th>\n",
        "      <th>_id</th>\n",
        "      <th>entities</th>\n",
        "      <th>user</th>\n",
        "    </tr>\n",
        "  </thead>\n",
        "  <tbody>\n",
        "    <tr>\n",
        "      <th>0</th>\n",
        "      <td> 537af815377b5f2816c60fed</td>\n",
        "      <td> {u'user_mentions': [{u'indices': [10, 23], u's...</td>\n",
        "      <td> {u'followers_count': 366}</td>\n",
        "    </tr>\n",
        "    <tr>\n",
        "      <th>1</th>\n",
        "      <td> 537af892377b5f2816c6105f</td>\n",
        "      <td>                            {u'user_mentions': []}</td>\n",
        "      <td> {u'followers_count': 443}</td>\n",
        "    </tr>\n",
        "    <tr>\n",
        "      <th>2</th>\n",
        "      <td> 537af815377b5f2816c60fee</td>\n",
        "      <td> {u'user_mentions': [{u'indices': [2, 15], u'sc...</td>\n",
        "      <td>  {u'followers_count': 86}</td>\n",
        "    </tr>\n",
        "    <tr>\n",
        "      <th>3</th>\n",
        "      <td> 537af815377b5f2816c60fef</td>\n",
        "      <td> {u'user_mentions': [{u'indices': [7, 20], u'sc...</td>\n",
        "      <td> {u'followers_count': 355}</td>\n",
        "    </tr>\n",
        "    <tr>\n",
        "      <th>4</th>\n",
        "      <td> 537af815377b5f2816c60ff0</td>\n",
        "      <td> {u'user_mentions': [{u'indices': [15, 28], u's...</td>\n",
        "      <td>  {u'followers_count': 56}</td>\n",
        "    </tr>\n",
        "  </tbody>\n",
        "</table>\n",
        "<p>5 rows \u00d7 3 columns</p>\n",
        "</div>"
       ],
       "metadata": {},
       "output_type": "pyout",
       "prompt_number": 50,
       "text": [
        "                        _id  \\\n",
        "0  537af815377b5f2816c60fed   \n",
        "1  537af892377b5f2816c6105f   \n",
        "2  537af815377b5f2816c60fee   \n",
        "3  537af815377b5f2816c60fef   \n",
        "4  537af815377b5f2816c60ff0   \n",
        "\n",
        "                                            entities  \\\n",
        "0  {u'user_mentions': [{u'indices': [10, 23], u's...   \n",
        "1                             {u'user_mentions': []}   \n",
        "2  {u'user_mentions': [{u'indices': [2, 15], u'sc...   \n",
        "3  {u'user_mentions': [{u'indices': [7, 20], u'sc...   \n",
        "4  {u'user_mentions': [{u'indices': [15, 28], u's...   \n",
        "\n",
        "                        user  \n",
        "0  {u'followers_count': 366}  \n",
        "1  {u'followers_count': 443}  \n",
        "2   {u'followers_count': 86}  \n",
        "3  {u'followers_count': 355}  \n",
        "4   {u'followers_count': 56}  \n",
        "\n",
        "[5 rows x 3 columns]"
       ]
      }
     ],
     "prompt_number": 50
    },
    {
     "cell_type": "code",
     "collapsed": false,
     "input": [
      "mentions_followers_df = pd.DataFrame({'user_mentions': len(tweet['entities']['user_mentions']), \n",
      "              'followers_count': tweet['user'].get('followers_count')} for tweet in mentions_followers)\n",
      "mentions_followers_df.head()"
     ],
     "language": "python",
     "metadata": {},
     "outputs": [
      {
       "html": [
        "<div style=\"max-height:1000px;max-width:1500px;overflow:auto;\">\n",
        "<table border=\"1\" class=\"dataframe\">\n",
        "  <thead>\n",
        "    <tr style=\"text-align: right;\">\n",
        "      <th></th>\n",
        "      <th>followers_count</th>\n",
        "      <th>user_mentions</th>\n",
        "    </tr>\n",
        "  </thead>\n",
        "  <tbody>\n",
        "    <tr>\n",
        "      <th>0</th>\n",
        "      <td> 366</td>\n",
        "      <td> 1</td>\n",
        "    </tr>\n",
        "    <tr>\n",
        "      <th>1</th>\n",
        "      <td> 443</td>\n",
        "      <td> 0</td>\n",
        "    </tr>\n",
        "    <tr>\n",
        "      <th>2</th>\n",
        "      <td>  86</td>\n",
        "      <td> 1</td>\n",
        "    </tr>\n",
        "    <tr>\n",
        "      <th>3</th>\n",
        "      <td> 355</td>\n",
        "      <td> 1</td>\n",
        "    </tr>\n",
        "    <tr>\n",
        "      <th>4</th>\n",
        "      <td>  56</td>\n",
        "      <td> 1</td>\n",
        "    </tr>\n",
        "  </tbody>\n",
        "</table>\n",
        "<p>5 rows \u00d7 2 columns</p>\n",
        "</div>"
       ],
       "metadata": {},
       "output_type": "pyout",
       "prompt_number": 51,
       "text": [
        "   followers_count  user_mentions\n",
        "0              366              1\n",
        "1              443              0\n",
        "2               86              1\n",
        "3              355              1\n",
        "4               56              1\n",
        "\n",
        "[5 rows x 2 columns]"
       ]
      }
     ],
     "prompt_number": 51
    },
    {
     "cell_type": "code",
     "collapsed": false,
     "input": [
      "# LAB\n",
      "\n",
      "# The Yahoo WOID of Canada is 23424775.\n",
      "# Use it to find Twitter trends in Canada and compare it to US trends.\n",
      "# What's the difference between them?\n",
      "#### Insert the last 100 tweets for all Canada-only trends into a 'canada' collection.\n",
      "#### Insert the last 100 tweets for all US-only trends into a 'us' collection\n",
      "#### For this sample, which users have the highest follower_count?"
     ],
     "language": "python",
     "metadata": {},
     "outputs": []
    },
    {
     "cell_type": "code",
     "collapsed": false,
     "input": [],
     "language": "python",
     "metadata": {},
     "outputs": []
    },
    {
     "cell_type": "code",
     "collapsed": false,
     "input": [
      "# Individually\n",
      "\n",
      "# Find tweets where 'retweet_count' : {\"$gt\":0}.\n",
      "# What is their COUNT?\n",
      "# Is there anything about them that stands out as retweetable?"
     ],
     "language": "python",
     "metadata": {},
     "outputs": []
    }
   ],
   "metadata": {}
  }
 ]
}