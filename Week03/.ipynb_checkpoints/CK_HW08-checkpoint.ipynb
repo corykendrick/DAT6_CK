{
 "metadata": {
  "name": "",
  "signature": "sha256:0b25c90fadd47a4f7bacf974dc95013e4c465ac78af40a0e93407447b60e1cc6"
 },
 "nbformat": 3,
 "nbformat_minor": 0,
 "worksheets": [
  {
   "cells": [
    {
     "cell_type": "code",
     "collapsed": false,
     "input": [
      "# Choice Modeling"
     ],
     "language": "python",
     "metadata": {},
     "outputs": []
    }
   ],
   "metadata": {}
  }
 ]
}