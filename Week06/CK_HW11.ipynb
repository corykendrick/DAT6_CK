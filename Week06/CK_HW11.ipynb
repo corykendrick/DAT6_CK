{
 "metadata": {
  "name": "",
  "signature": "sha256:fc441bff98def1ad7d479be0323f7b32c2c1986c7b4a43258325d124b1095593"
 },
 "nbformat": 3,
 "nbformat_minor": 0,
 "worksheets": [
  {
   "cells": [
    {
     "cell_type": "code",
     "collapsed": false,
     "input": [
      "# PCA"
     ],
     "language": "python",
     "metadata": {},
     "outputs": []
    }
   ],
   "metadata": {}
  }
 ]
}